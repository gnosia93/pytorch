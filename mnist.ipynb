{
 "cells": [
  {
   "cell_type": "code",
   "execution_count": 14,
   "metadata": {},
   "outputs": [],
   "source": [
    "import torch\n",
    "from torch import nn\n",
    "from torch.utils.data import DataLoader\n",
    "from torchvision import datasets\n",
    "from torchvision.transforms import ToTensor"
   ]
  },
  {
   "cell_type": "code",
   "execution_count": 21,
   "metadata": {},
   "outputs": [],
   "source": [
    "training_data = datasets.FashionMNIST(\n",
    "    root = \"data\",\n",
    "    train = True,\n",
    "    download = True,\n",
    "    transform = ToTensor()\n",
    ")\n",
    "\n",
    "test_data = datasets.FashionMNIST(\n",
    "    root = \"data\",\n",
    "    train = False,\n",
    "    download = True,\n",
    "    transform = ToTensor()\n",
    ")"
   ]
  },
  {
   "cell_type": "code",
   "execution_count": 22,
   "metadata": {},
   "outputs": [],
   "source": [
    "batch_size = 64\n",
    "train_dataloader = DataLoader(training_data, batch_size = batch_size)\n",
    "test_dataloader = DataLoader(test_data, batch_size = batch_size)"
   ]
  },
  {
   "cell_type": "code",
   "execution_count": 23,
   "metadata": {},
   "outputs": [
    {
     "name": "stdout",
     "output_type": "stream",
     "text": [
      "mps\n"
     ]
    }
   ],
   "source": [
    "device = (\n",
    "    \"cuda\" \n",
    "    if torch.cuda.is_available() \n",
    "    else \"mps\"\n",
    "    if torch.backends.mps.is_available() \n",
    "    else \"cpu\"\n",
    ")\n",
    "\n",
    "print(device)"
   ]
  },
  {
   "cell_type": "code",
   "execution_count": 26,
   "metadata": {},
   "outputs": [
    {
     "name": "stdout",
     "output_type": "stream",
     "text": [
      "NeuralNetwork(\n",
      "  (flatten): Flatten(start_dim=1, end_dim=-1)\n",
      "  (linear_relu_stack): Sequential(\n",
      "    (0): Linear(in_features=784, out_features=512, bias=True)\n",
      "    (1): ReLU()\n",
      "    (2): Linear(in_features=512, out_features=512, bias=True)\n",
      "    (3): ReLU()\n",
      "    (4): Linear(in_features=512, out_features=10, bias=True)\n",
      "  )\n",
      ")\n"
     ]
    }
   ],
   "source": [
    "class NeuralNetwork(nn.Module):\n",
    "    def __init__(self):\n",
    "        super().__init__()\n",
    "        self.flatten = nn.Flatten()\n",
    "        self.linear_relu_stack = nn.Sequential(\n",
    "            nn.Linear(28 * 28, 512),\n",
    "            nn.ReLU(),\n",
    "            nn.Linear(512, 512),\n",
    "            nn.ReLU(),\n",
    "            nn.Linear(512, 10)\n",
    "        )\n",
    "        \n",
    "    def forward(self, x):\n",
    "        x = self.flatten(x)\n",
    "        logits = self.linear_relu_stack(x)\n",
    "        return logits\n",
    "    \n",
    "\n",
    "model = NeuralNetwork().to(device)\n",
    "print(model)\n"
   ]
  },
  {
   "cell_type": "code",
   "execution_count": 29,
   "metadata": {},
   "outputs": [],
   "source": [
    "loss_fn = nn.CrossEntropyLoss()\n",
    "optimizer = torch.optim.SGD(model.parameters(), lr=1e-3)"
   ]
  },
  {
   "cell_type": "code",
   "execution_count": 30,
   "metadata": {},
   "outputs": [],
   "source": [
    "def train(dataloader, model, loss_fn, optimizer):\n",
    "    size = len(dataloader.dataset)\n",
    "    for batch, (X, y) in enumerate(dataloader):\n",
    "        X, y = X.to(device), y.to(device)\n",
    "\n",
    "        pred = model(X)\n",
    "        loss = loss_fn(pred, y)\n",
    "\n",
    "        optimizer.zero_grad()\n",
    "        loss.backward()\n",
    "        optimizer.step()\n",
    "\n",
    "        if batch % 100 == 0:\n",
    "            loss, current = loss.item(), (batch + 1) * len(X)\n",
    "            print(f\"loss: {loss:>7f} [{current:>5d}/{size:>5d}]\")\n",
    "    "
   ]
  },
  {
   "cell_type": "code",
   "execution_count": 31,
   "metadata": {},
   "outputs": [],
   "source": [
    "def test(dataloader, model, loss_fn):\n",
    "    size = len(dataloader.dataset)\n",
    "    num_batches = len(dataloader)\n",
    "    model.eval()\n",
    "    test_loss, correct = 0, 0\n",
    "    with torch.no_grad():\n",
    "        for X, y in dataloader:\n",
    "            X, y = X.to(device), y.to(device)\n",
    "            pred = model(X)\n",
    "            test_loss += loss_fn(pred, y).item()\n",
    "            correct += (pred.argmax(1) == y).type(torch.float).sum().item()\n",
    "    test_loss /= num_batches\n",
    "    correct /= size\n",
    "    print(f\"Test Error: \\n Accuracy: {(100*correct):>0.1f}%, Avg loss: {test_loss:>8f} \\n\")\n"
   ]
  },
  {
   "cell_type": "code",
   "execution_count": 35,
   "metadata": {},
   "outputs": [
    {
     "name": "stdout",
     "output_type": "stream",
     "text": [
      "Epoch 1\n",
      "-------------------------------\n",
      "loss: 1.021442 [   64/60000]\n",
      "loss: 1.051626 [ 6464/60000]\n",
      "loss: 0.845584 [12864/60000]\n",
      "loss: 1.004675 [19264/60000]\n",
      "loss: 0.879796 [25664/60000]\n",
      "loss: 0.899094 [32064/60000]\n",
      "loss: 0.967097 [38464/60000]\n",
      "loss: 0.901020 [44864/60000]\n",
      "loss: 0.940126 [51264/60000]\n",
      "loss: 0.891060 [57664/60000]\n",
      "Test Error: \n",
      " Accuracy: 67.6%, Avg loss: 0.898365 \n",
      "\n",
      "Epoch 2\n",
      "-------------------------------\n",
      "loss: 0.937184 [   64/60000]\n",
      "loss: 0.987608 [ 6464/60000]\n",
      "loss: 0.766817 [12864/60000]\n",
      "loss: 0.942644 [19264/60000]\n",
      "loss: 0.825202 [25664/60000]\n",
      "loss: 0.831954 [32064/60000]\n",
      "loss: 0.915695 [38464/60000]\n",
      "loss: 0.852573 [44864/60000]\n",
      "loss: 0.885224 [51264/60000]\n",
      "loss: 0.844682 [57664/60000]\n",
      "Test Error: \n",
      " Accuracy: 68.7%, Avg loss: 0.848306 \n",
      "\n",
      "Epoch 3\n",
      "-------------------------------\n",
      "loss: 0.872297 [   64/60000]\n",
      "loss: 0.938874 [ 6464/60000]\n",
      "loss: 0.707365 [12864/60000]\n",
      "loss: 0.895919 [19264/60000]\n",
      "loss: 0.786120 [25664/60000]\n",
      "loss: 0.781376 [32064/60000]\n",
      "loss: 0.876317 [38464/60000]\n",
      "loss: 0.818264 [44864/60000]\n",
      "loss: 0.843942 [51264/60000]\n",
      "loss: 0.808583 [57664/60000]\n",
      "Test Error: \n",
      " Accuracy: 70.1%, Avg loss: 0.810062 \n",
      "\n",
      "Epoch 4\n",
      "-------------------------------\n",
      "loss: 0.820269 [   64/60000]\n",
      "loss: 0.899097 [ 6464/60000]\n",
      "loss: 0.660884 [12864/60000]\n",
      "loss: 0.859795 [19264/60000]\n",
      "loss: 0.756223 [25664/60000]\n",
      "loss: 0.742525 [32064/60000]\n",
      "loss: 0.844263 [38464/60000]\n",
      "loss: 0.792668 [44864/60000]\n",
      "loss: 0.811656 [51264/60000]\n",
      "loss: 0.779151 [57664/60000]\n",
      "Test Error: \n",
      " Accuracy: 71.6%, Avg loss: 0.779457 \n",
      "\n",
      "Epoch 5\n",
      "-------------------------------\n",
      "loss: 0.777303 [   64/60000]\n",
      "loss: 0.864952 [ 6464/60000]\n",
      "loss: 0.623379 [12864/60000]\n",
      "loss: 0.830807 [19264/60000]\n",
      "loss: 0.732122 [25664/60000]\n",
      "loss: 0.711918 [32064/60000]\n",
      "loss: 0.816751 [38464/60000]\n",
      "loss: 0.772437 [44864/60000]\n",
      "loss: 0.785581 [51264/60000]\n",
      "loss: 0.754361 [57664/60000]\n",
      "Test Error: \n",
      " Accuracy: 72.7%, Avg loss: 0.753884 \n",
      "\n",
      "Epoch 6\n",
      "-------------------------------\n",
      "loss: 0.740636 [   64/60000]\n",
      "loss: 0.834600 [ 6464/60000]\n",
      "loss: 0.592209 [12864/60000]\n",
      "loss: 0.806944 [19264/60000]\n",
      "loss: 0.711755 [25664/60000]\n",
      "loss: 0.687077 [32064/60000]\n",
      "loss: 0.792290 [38464/60000]\n",
      "loss: 0.755467 [44864/60000]\n",
      "loss: 0.763650 [51264/60000]\n",
      "loss: 0.732836 [57664/60000]\n",
      "Test Error: \n",
      " Accuracy: 73.6%, Avg loss: 0.731736 \n",
      "\n",
      "Epoch 7\n",
      "-------------------------------\n",
      "loss: 0.708662 [   64/60000]\n",
      "loss: 0.806951 [ 6464/60000]\n",
      "loss: 0.565667 [12864/60000]\n",
      "loss: 0.786645 [19264/60000]\n",
      "loss: 0.694179 [25664/60000]\n",
      "loss: 0.666498 [32064/60000]\n",
      "loss: 0.769775 [38464/60000]\n",
      "loss: 0.740633 [44864/60000]\n",
      "loss: 0.744888 [51264/60000]\n",
      "loss: 0.713516 [57664/60000]\n",
      "Test Error: \n",
      " Accuracy: 74.6%, Avg loss: 0.712034 \n",
      "\n",
      "Epoch 8\n",
      "-------------------------------\n",
      "loss: 0.680174 [   64/60000]\n",
      "loss: 0.781337 [ 6464/60000]\n",
      "loss: 0.542628 [12864/60000]\n",
      "loss: 0.768901 [19264/60000]\n",
      "loss: 0.678695 [25664/60000]\n",
      "loss: 0.649239 [32064/60000]\n",
      "loss: 0.748895 [38464/60000]\n",
      "loss: 0.727400 [44864/60000]\n",
      "loss: 0.728525 [51264/60000]\n",
      "loss: 0.695988 [57664/60000]\n",
      "Test Error: \n",
      " Accuracy: 75.4%, Avg loss: 0.694279 \n",
      "\n",
      "Epoch 9\n",
      "-------------------------------\n",
      "loss: 0.654662 [   64/60000]\n",
      "loss: 0.757641 [ 6464/60000]\n",
      "loss: 0.522346 [12864/60000]\n",
      "loss: 0.753111 [19264/60000]\n",
      "loss: 0.664975 [25664/60000]\n",
      "loss: 0.634480 [32064/60000]\n",
      "loss: 0.729249 [38464/60000]\n",
      "loss: 0.715590 [44864/60000]\n",
      "loss: 0.714124 [51264/60000]\n",
      "loss: 0.679865 [57664/60000]\n",
      "Test Error: \n",
      " Accuracy: 76.0%, Avg loss: 0.678132 \n",
      "\n",
      "Epoch 10\n",
      "-------------------------------\n",
      "loss: 0.631680 [   64/60000]\n",
      "loss: 0.736051 [ 6464/60000]\n",
      "loss: 0.504328 [12864/60000]\n",
      "loss: 0.738960 [19264/60000]\n",
      "loss: 0.652888 [25664/60000]\n",
      "loss: 0.621736 [32064/60000]\n",
      "loss: 0.710878 [38464/60000]\n",
      "loss: 0.704977 [44864/60000]\n",
      "loss: 0.701408 [51264/60000]\n",
      "loss: 0.665099 [57664/60000]\n",
      "Test Error: \n",
      " Accuracy: 76.7%, Avg loss: 0.663378 \n",
      "\n",
      "Done!\n"
     ]
    }
   ],
   "source": [
    "epochs = 10\n",
    "for t in range(epochs):\n",
    "    print(f\"Epoch {t+1}\\n-------------------------------\")\n",
    "    train(train_dataloader, model, loss_fn, optimizer)\n",
    "    test(test_dataloader, model, loss_fn)\n",
    "\n",
    "print('Done!')"
   ]
  },
  {
   "cell_type": "markdown",
   "metadata": {},
   "source": [
    "Save Model"
   ]
  },
  {
   "cell_type": "code",
   "execution_count": 36,
   "metadata": {},
   "outputs": [
    {
     "name": "stdout",
     "output_type": "stream",
     "text": [
      "Saved PyTorch Model State to model.pth\n"
     ]
    }
   ],
   "source": [
    "torch.save(model.state_dict(), \"model.pth\")\n",
    "print(\"Saved PyTorch Model State to model.pth\")"
   ]
  },
  {
   "cell_type": "code",
   "execution_count": 55,
   "metadata": {},
   "outputs": [
    {
     "name": "stdout",
     "output_type": "stream",
     "text": [
      "<class 'torch.Tensor'>\n",
      "tensor([[-4.0878, -4.6553, -3.0625, -3.0662, -1.9257,  5.7704, -2.9318,  5.5002,\n",
      "          2.4612,  6.3232]], device='mps:0') torch.Size([1, 10]) 2\n",
      "<class 'torch.Tensor'> <class 'torch.Tensor'>\n",
      "Predicted: Ankle boot, Actual: Ankle boot\n"
     ]
    }
   ],
   "source": [
    "classes = [\n",
    "    \"T-shirt/top\",\n",
    "    \"Trouser\",\n",
    "    \"Pullover\",\n",
    "    \"Dress\",\n",
    "    \"Coat\",\n",
    "    \"Sandal\",\n",
    "    \"Shirt\",\n",
    "    \"Sneaker\",\n",
    "    \"Bag\",\n",
    "    \"Ankle boot\",\n",
    "]\n",
    "\n",
    "model.eval()\n",
    "x, y = test_data[0][0], test_data[0][1]\n",
    "print(type(x))\n",
    "with torch.no_grad():\n",
    "    x = x.to(device)\n",
    "    pred = model(x)\n",
    "    print(pred, pred.shape, pred.ndim)\n",
    "    print(type(pred), type(pred[0]))\n",
    "    predicted, actual = classes[pred[0].argmax(0)], classes[y]\n",
    "    print(f'Predicted: {predicted}, Actual: {actual}')\n",
    "    "
   ]
  }
 ],
 "metadata": {
  "kernelspec": {
   "display_name": "conda",
   "language": "python",
   "name": "conda"
  },
  "language_info": {
   "codemirror_mode": {
    "name": "ipython",
    "version": 3
   },
   "file_extension": ".py",
   "mimetype": "text/x-python",
   "name": "python",
   "nbconvert_exporter": "python",
   "pygments_lexer": "ipython3",
   "version": "3.11.5"
  }
 },
 "nbformat": 4,
 "nbformat_minor": 2
}
